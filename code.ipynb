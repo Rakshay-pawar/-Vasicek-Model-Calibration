{
 "cells": [
  {
   "cell_type": "code",
   "execution_count": 28,
   "metadata": {},
   "outputs": [],
   "source": [
    "import pandas as pd\n",
    "import numpy as np\n",
    "import seaborn as sns\n",
    "import matplotlib.pyplot as plt\n",
    "import matplotlib.ticker as mtick\n",
    "import statsmodels.api as sm\n",
    "import scipy as sp\n",
    "import itertools\n",
    "import warnings\n",
    "warnings.filterwarnings('ignore')\n",
    "plt.style.use('seaborn-darkgrid')\n",
    "MyColors = [\"#0078D7\", \"#E74856\", \"#FFB900\", \"#10893E\", \"#B146C2\",\n",
    "\"#00B7C3\", \"#E3008C\", \"#FF8C00\", \"#00CC6A\", \"#6B69D6\",\n",
    "\"#0099BC\", \"#C30052\", \"#F7630C\", \"#00B294\", \"#8764B8\"]\n",
    "sns.set_palette(MyColors)"
   ]
  },
  {
   "cell_type": "code",
   "execution_count": 79,
   "metadata": {},
   "outputs": [
    {
     "data": {
      "text/plain": [
       "0.5     0.972476\n",
       "1.0     0.944569\n",
       "1.5     0.916324\n",
       "2.0     0.887934\n",
       "2.5     0.859741\n",
       "3.0     0.832044\n",
       "3.5     0.805077\n",
       "4.0     0.778904\n",
       "4.5     0.753480\n",
       "5.0     0.728734\n",
       "5.5     0.704580\n",
       "6.0     0.681010\n",
       "6.5     0.658042\n",
       "7.0     0.635692\n",
       "7.5     0.613977\n",
       "8.0     0.592905\n",
       "8.5     0.572482\n",
       "9.0     0.552713\n",
       "9.5     0.533601\n",
       "10.0    0.515148\n",
       "Name: 0, dtype: float64"
      ]
     },
     "execution_count": 79,
     "metadata": {},
     "output_type": "execute_result"
    }
   ],
   "source": [
    "# Read discount factor data\n",
    "df_init = pd.read_excel(r\"C:\\Users\\yahsk\\Desktop\\Q2\\Fixed income markets\\ALL HW AND SOLUTIONS except 8\\Homework_export 7\\Homework 7\\Homework_7_Data.xlsx\", sheet_name=2,header=None)[0]\n",
    "\n",
    "# Create an array of length equal to df_init length, starting from 0.5 with step 0.5\n",
    "new_index = np.arange(0.5, 0.5*(len(df_init)+1), 0.5)\n",
    "\n",
    "# Assign the new index\n",
    "df_init.index = new_index\n",
    "\n",
    "# Truncate to the first 10 elements\n",
    "df_init = df_init[:10]\n",
    "df_init"
   ]
  },
  {
   "cell_type": "code",
   "execution_count": 80,
   "metadata": {},
   "outputs": [
    {
     "data": {
      "text/plain": [
       "0.5     0.0000\n",
       "1.0     0.0040\n",
       "1.5     0.0090\n",
       "2.0     0.0160\n",
       "2.5     0.0225\n",
       "3.0     0.0258\n",
       "3.5     0.0287\n",
       "4.0     0.0320\n",
       "4.5     0.0342\n",
       "5.0     0.0360\n",
       "5.5     0.0385\n",
       "6.0     0.0408\n",
       "6.5     0.0429\n",
       "7.0     0.0448\n",
       "7.5     0.0450\n",
       "8.0     0.0464\n",
       "8.5     0.0476\n",
       "9.0     0.0486\n",
       "9.5     0.0494\n",
       "10.0    0.0500\n",
       "Name: 0, dtype: float64"
      ]
     },
     "execution_count": 80,
     "metadata": {},
     "output_type": "execute_result"
    }
   ],
   "source": [
    "# Read volatility data\n",
    "vol = pd.read_excel(r\"C:\\Users\\yahsk\\Desktop\\Q2\\Fixed income markets\\ALL HW AND SOLUTIONS except 8\\Homework_export 7\\Homework 7\\Homework_7_Data.xlsx\", sheet_name=3, header=None)[0]\n",
    "\n",
    "# Create an array of length equal to vol length, starting from 0.5 with step 0.5\n",
    "new_index = np.arange(0.5, 0.5 + 0.5*len(vol), 0.5)\n",
    "\n",
    "# Assign the new index\n",
    "vol.index = new_index\n",
    "\n",
    "# Replace the first entry with 0\n",
    "vol.loc[0.5] = 0\n",
    "\n",
    "# Sort the index\n",
    "vol = vol.sort_index()\n",
    "\n",
    "# Truncate to the first 20 elements\n",
    "vol = vol[:10]\n",
    "vol"
   ]
  },
  {
   "cell_type": "code",
   "execution_count": 61,
   "metadata": {},
   "outputs": [],
   "source": [
    "# Read cholesky matrix\n",
    "mat_chol = pd.read_excel(r\"C:\\Users\\yahsk\\Desktop\\Q2\\Fixed income markets\\ALL HW AND SOLUTIONS except 8\\Homework_export 7\\Homework 7\\Homework_7_Data.xlsx\", sheet_name=1, header=None).values\n"
   ]
  },
  {
   "cell_type": "code",
   "execution_count": 81,
   "metadata": {},
   "outputs": [],
   "source": [
    "# Function to compute short rate based on string model\n",
    "def string(df, vol, mat_chol, seed):\n",
    "    # Generate dz\n",
    "    np.random.seed(seed)\n",
    "    dz = pd.DataFrame(mat_chol @ np.random.normal(size=[20, 20]),\n",
    "        index=np.arange(0.5, 10+0.5, 0.5),\n",
    "        columns=np.arange(0.5, 10+0.5, 0.5))\n",
    "    # Repeatedly compute short rate & DF curve t=0.5 to 9.5\n",
    "    # Note: index: maturity, columns: time\n",
    "    B = pd.DataFrame(None,\n",
    "        index=np.arange(0.5, 10+0.5, 0.5),\n",
    "        columns=np.arange(0, 10+0.5, 0.5))\n",
    "    r_save = pd.Series(index=np.arange(0, 9.5+0.5, 0.5))\n",
    "    # Repeat process\n",
    "    B[0] = df\n",
    "    vol_t = vol.copy()\n",
    "    for t in np.arange(0.5, 10+0.5, 0.5):\n",
    "        r = (1/B[t-0.5][t]-1)*2\n",
    "        B[t] = B[t-0.5]+r*B[t-0.5]/2 + vol_t*B[t-0.5]*dz[t]\n",
    "        vol_t = vol_t.shift()\n",
    "        r_save[t-0.5] = r\n",
    "    return r_save"
   ]
  },
  {
   "cell_type": "code",
   "execution_count": 82,
   "metadata": {},
   "outputs": [],
   "source": [
    "# Monte Carlo simulation: String model\n",
    "r_sim = pd.DataFrame({n: string(df_init, vol, mat_chol, n)\n",
    "for n in range(0, 10000)})"
   ]
  },
  {
   "cell_type": "code",
   "execution_count": 83,
   "metadata": {},
   "outputs": [],
   "source": [
    "#Compute discount factor path\n",
    "df_sim = (1/(1+r_sim/2)).cumprod()\n",
    "df_sim.index = np.arange(0.5, 10+0.5, 0.5)"
   ]
  },
  {
   "cell_type": "code",
   "execution_count": 84,
   "metadata": {},
   "outputs": [
    {
     "data": {
      "text/html": [
       "<div>\n",
       "<style scoped>\n",
       "    .dataframe tbody tr th:only-of-type {\n",
       "        vertical-align: middle;\n",
       "    }\n",
       "\n",
       "    .dataframe tbody tr th {\n",
       "        vertical-align: top;\n",
       "    }\n",
       "\n",
       "    .dataframe thead th {\n",
       "        text-align: right;\n",
       "    }\n",
       "</style>\n",
       "<table border=\"1\" class=\"dataframe\">\n",
       "  <thead>\n",
       "    <tr style=\"text-align: right;\">\n",
       "      <th></th>\n",
       "      <th>0</th>\n",
       "      <th>1</th>\n",
       "      <th>2</th>\n",
       "      <th>3</th>\n",
       "      <th>4</th>\n",
       "      <th>5</th>\n",
       "    </tr>\n",
       "  </thead>\n",
       "  <tbody>\n",
       "    <tr>\n",
       "      <th>0.0</th>\n",
       "      <td>0.056605</td>\n",
       "      <td>0.056605</td>\n",
       "      <td>0.056605</td>\n",
       "      <td>0.056605</td>\n",
       "      <td>0.056605</td>\n",
       "      <td>0.056605</td>\n",
       "    </tr>\n",
       "    <tr>\n",
       "      <th>0.5</th>\n",
       "      <td>0.049336</td>\n",
       "      <td>0.048141</td>\n",
       "      <td>0.063765</td>\n",
       "      <td>0.046998</td>\n",
       "      <td>0.060252</td>\n",
       "      <td>0.057183</td>\n",
       "    </tr>\n",
       "    <tr>\n",
       "      <th>1.0</th>\n",
       "      <td>0.051794</td>\n",
       "      <td>0.053535</td>\n",
       "      <td>0.067890</td>\n",
       "      <td>0.048795</td>\n",
       "      <td>0.062417</td>\n",
       "      <td>0.065089</td>\n",
       "    </tr>\n",
       "    <tr>\n",
       "      <th>1.5</th>\n",
       "      <td>0.049352</td>\n",
       "      <td>0.055121</td>\n",
       "      <td>0.093942</td>\n",
       "      <td>0.030423</td>\n",
       "      <td>0.055480</td>\n",
       "      <td>0.049890</td>\n",
       "    </tr>\n",
       "    <tr>\n",
       "      <th>2.0</th>\n",
       "      <td>0.037424</td>\n",
       "      <td>0.066494</td>\n",
       "      <td>0.080300</td>\n",
       "      <td>0.059990</td>\n",
       "      <td>0.087258</td>\n",
       "      <td>0.028619</td>\n",
       "    </tr>\n",
       "    <tr>\n",
       "      <th>2.5</th>\n",
       "      <td>0.015663</td>\n",
       "      <td>0.056148</td>\n",
       "      <td>0.086952</td>\n",
       "      <td>0.068709</td>\n",
       "      <td>0.062958</td>\n",
       "      <td>0.034451</td>\n",
       "    </tr>\n",
       "    <tr>\n",
       "      <th>3.0</th>\n",
       "      <td>0.017128</td>\n",
       "      <td>0.070226</td>\n",
       "      <td>0.098752</td>\n",
       "      <td>0.104286</td>\n",
       "      <td>0.071926</td>\n",
       "      <td>0.019181</td>\n",
       "    </tr>\n",
       "    <tr>\n",
       "      <th>3.5</th>\n",
       "      <td>0.003777</td>\n",
       "      <td>0.044258</td>\n",
       "      <td>0.107565</td>\n",
       "      <td>0.090463</td>\n",
       "      <td>0.113931</td>\n",
       "      <td>0.004256</td>\n",
       "    </tr>\n",
       "    <tr>\n",
       "      <th>4.0</th>\n",
       "      <td>0.006622</td>\n",
       "      <td>0.078030</td>\n",
       "      <td>0.104170</td>\n",
       "      <td>0.093355</td>\n",
       "      <td>0.109047</td>\n",
       "      <td>0.039303</td>\n",
       "    </tr>\n",
       "    <tr>\n",
       "      <th>4.5</th>\n",
       "      <td>0.116241</td>\n",
       "      <td>0.046086</td>\n",
       "      <td>0.053417</td>\n",
       "      <td>0.103915</td>\n",
       "      <td>0.093066</td>\n",
       "      <td>0.070304</td>\n",
       "    </tr>\n",
       "    <tr>\n",
       "      <th>5.0</th>\n",
       "      <td>0.042827</td>\n",
       "      <td>0.071474</td>\n",
       "      <td>0.091560</td>\n",
       "      <td>0.068660</td>\n",
       "      <td>0.073779</td>\n",
       "      <td>0.112758</td>\n",
       "    </tr>\n",
       "    <tr>\n",
       "      <th>5.5</th>\n",
       "      <td>0.083650</td>\n",
       "      <td>-0.007747</td>\n",
       "      <td>0.062911</td>\n",
       "      <td>0.108729</td>\n",
       "      <td>0.052958</td>\n",
       "      <td>0.098540</td>\n",
       "    </tr>\n",
       "    <tr>\n",
       "      <th>6.0</th>\n",
       "      <td>0.072917</td>\n",
       "      <td>0.098136</td>\n",
       "      <td>0.122653</td>\n",
       "      <td>-0.049618</td>\n",
       "      <td>0.068655</td>\n",
       "      <td>0.145899</td>\n",
       "    </tr>\n",
       "    <tr>\n",
       "      <th>6.5</th>\n",
       "      <td>0.091493</td>\n",
       "      <td>0.056254</td>\n",
       "      <td>0.136828</td>\n",
       "      <td>0.034550</td>\n",
       "      <td>0.038035</td>\n",
       "      <td>0.054687</td>\n",
       "    </tr>\n",
       "    <tr>\n",
       "      <th>7.0</th>\n",
       "      <td>-0.025460</td>\n",
       "      <td>0.085857</td>\n",
       "      <td>0.121419</td>\n",
       "      <td>-0.026370</td>\n",
       "      <td>0.009345</td>\n",
       "      <td>0.167426</td>\n",
       "    </tr>\n",
       "    <tr>\n",
       "      <th>7.5</th>\n",
       "      <td>0.075922</td>\n",
       "      <td>0.050386</td>\n",
       "      <td>0.117634</td>\n",
       "      <td>0.083150</td>\n",
       "      <td>-0.051759</td>\n",
       "      <td>0.001653</td>\n",
       "    </tr>\n",
       "    <tr>\n",
       "      <th>8.0</th>\n",
       "      <td>0.096415</td>\n",
       "      <td>0.033061</td>\n",
       "      <td>0.032580</td>\n",
       "      <td>0.012180</td>\n",
       "      <td>-0.011118</td>\n",
       "      <td>0.149137</td>\n",
       "    </tr>\n",
       "    <tr>\n",
       "      <th>8.5</th>\n",
       "      <td>0.113217</td>\n",
       "      <td>0.039649</td>\n",
       "      <td>-0.003139</td>\n",
       "      <td>0.089291</td>\n",
       "      <td>0.065895</td>\n",
       "      <td>0.070042</td>\n",
       "    </tr>\n",
       "    <tr>\n",
       "      <th>9.0</th>\n",
       "      <td>0.048567</td>\n",
       "      <td>0.098621</td>\n",
       "      <td>0.046625</td>\n",
       "      <td>0.059225</td>\n",
       "      <td>0.023182</td>\n",
       "      <td>0.042733</td>\n",
       "    </tr>\n",
       "    <tr>\n",
       "      <th>9.5</th>\n",
       "      <td>0.202908</td>\n",
       "      <td>0.136129</td>\n",
       "      <td>-0.041906</td>\n",
       "      <td>0.237404</td>\n",
       "      <td>0.176009</td>\n",
       "      <td>-0.027009</td>\n",
       "    </tr>\n",
       "  </tbody>\n",
       "</table>\n",
       "</div>"
      ],
      "text/plain": [
       "            0         1         2         3         4         5\n",
       "0.0  0.056605  0.056605  0.056605  0.056605  0.056605  0.056605\n",
       "0.5  0.049336  0.048141  0.063765  0.046998  0.060252  0.057183\n",
       "1.0  0.051794  0.053535  0.067890  0.048795  0.062417  0.065089\n",
       "1.5  0.049352  0.055121  0.093942  0.030423  0.055480  0.049890\n",
       "2.0  0.037424  0.066494  0.080300  0.059990  0.087258  0.028619\n",
       "2.5  0.015663  0.056148  0.086952  0.068709  0.062958  0.034451\n",
       "3.0  0.017128  0.070226  0.098752  0.104286  0.071926  0.019181\n",
       "3.5  0.003777  0.044258  0.107565  0.090463  0.113931  0.004256\n",
       "4.0  0.006622  0.078030  0.104170  0.093355  0.109047  0.039303\n",
       "4.5  0.116241  0.046086  0.053417  0.103915  0.093066  0.070304\n",
       "5.0  0.042827  0.071474  0.091560  0.068660  0.073779  0.112758\n",
       "5.5  0.083650 -0.007747  0.062911  0.108729  0.052958  0.098540\n",
       "6.0  0.072917  0.098136  0.122653 -0.049618  0.068655  0.145899\n",
       "6.5  0.091493  0.056254  0.136828  0.034550  0.038035  0.054687\n",
       "7.0 -0.025460  0.085857  0.121419 -0.026370  0.009345  0.167426\n",
       "7.5  0.075922  0.050386  0.117634  0.083150 -0.051759  0.001653\n",
       "8.0  0.096415  0.033061  0.032580  0.012180 -0.011118  0.149137\n",
       "8.5  0.113217  0.039649 -0.003139  0.089291  0.065895  0.070042\n",
       "9.0  0.048567  0.098621  0.046625  0.059225  0.023182  0.042733\n",
       "9.5  0.202908  0.136129 -0.041906  0.237404  0.176009 -0.027009"
      ]
     },
     "execution_count": 84,
     "metadata": {},
     "output_type": "execute_result"
    }
   ],
   "source": [
    "r_sim.T[0:6].T"
   ]
  },
  {
   "cell_type": "code",
   "execution_count": 66,
   "metadata": {},
   "outputs": [
    {
     "data": {
      "image/png": "[encoded data removed]",
      "text/plain": [
       "<Figure size 1200x400 with 2 Axes>"
      ]
     },
     "metadata": {},
     "output_type": "display_data"
    }
   ],
   "source": [
    "# Plot average short rate curve and DF curve\n",
    "fig, ax = plt.subplots(1, 2, figsize=(6*2, 4))\n",
    "r_sim.T.mean().plot(ax=ax[0])\n",
    "df_sim.T.mean().plot(ax=ax[1]);"
   ]
  },
  {
   "cell_type": "code",
   "execution_count": 67,
   "metadata": {},
   "outputs": [],
   "source": [
    "# Compute forward par rate based on the simulated path\n",
    "fwd_par_sim = pd.DataFrame({\n",
    "m: 2*(df_sim.loc[5,:]-df_sim.loc[5+m,:])/df_sim[(5+0.5):(5+m)].sum()\n",
    "for m in range(1, 5+1)\n",
    "})"
   ]
  },
  {
   "cell_type": "code",
   "execution_count": 68,
   "metadata": {},
   "outputs": [
    {
     "data": {
      "text/plain": [
       "1    0.070688\n",
       "2    0.071252\n",
       "3    0.071589\n",
       "4    0.072083\n",
       "5    0.072311\n",
       "dtype: float64"
      ]
     },
     "execution_count": 68,
     "metadata": {},
     "output_type": "execute_result"
    }
   ],
   "source": [
    "# Compute the expected value of forward par rate\n",
    "fwd_par = fwd_par_sim.mean()\n",
    "fwd_par"
   ]
  },
  {
   "cell_type": "code",
   "execution_count": 69,
   "metadata": {},
   "outputs": [
    {
     "data": {
      "text/plain": [
       "1    0.068886\n",
       "2    0.069452\n",
       "3    0.069903\n",
       "4    0.070248\n",
       "5    0.070489\n",
       "dtype: float64"
      ]
     },
     "execution_count": 69,
     "metadata": {},
     "output_type": "execute_result"
    }
   ],
   "source": [
    "# Reference: Compute the forward par rate based on the initial curve\n",
    "fwd_par_init = pd.Series({\n",
    "m: 2*(df_init[5]-df_init[5+m])/df_init[(5+0.5):(5+m)].sum()\n",
    "for m in range(1, 5+1)\n",
    "})\n",
    "fwd_par_init"
   ]
  },
  {
   "cell_type": "code",
   "execution_count": 70,
   "metadata": {},
   "outputs": [],
   "source": [
    "# Compute par rate based on the simulated path\n",
    "par_sim = pd.DataFrame({\n",
    "m: 2*(1-df_sim.loc[m,:])/df_sim[0.5:m].sum()\n",
    "for m in [2,3,5,10]\n",
    "})"
   ]
  },
  {
   "cell_type": "code",
   "execution_count": 71,
   "metadata": {},
   "outputs": [
    {
     "data": {
      "text/plain": [
       "2     0.060151\n",
       "3     0.062019\n",
       "5     0.064174\n",
       "10    0.067321\n",
       "dtype: float64"
      ]
     },
     "execution_count": 71,
     "metadata": {},
     "output_type": "execute_result"
    }
   ],
   "source": [
    "par = par_sim.mean()\n",
    "par"
   ]
  },
  {
   "cell_type": "code",
   "execution_count": 72,
   "metadata": {},
   "outputs": [],
   "source": [
    "def calc_cap(K, r_sim, df_sim):\n",
    "    cf_sim = (r_sim-K)*0.5\n",
    "    cf_sim = cf_sim.mask(cf_sim<0,0)\n",
    "    cf_sim.index = df_sim.index\n",
    "    pv = (cf_sim*df_sim).sum().mean()\n",
    "    return pv"
   ]
  },
  {
   "cell_type": "code",
   "execution_count": 73,
   "metadata": {},
   "outputs": [
    {
     "data": {
      "text/plain": [
       "2     0.129223\n",
       "3     0.122290\n",
       "5     0.114719\n",
       "10    0.104442\n",
       "dtype: float64"
      ]
     },
     "execution_count": 73,
     "metadata": {},
     "output_type": "execute_result"
    }
   ],
   "source": [
    "pv_cap = par.apply(lambda x: calc_cap(x, r_sim, df_sim))\n",
    "pv_cap"
   ]
  },
  {
   "cell_type": "code",
   "execution_count": 74,
   "metadata": {},
   "outputs": [],
   "source": [
    "def calc_reset_cap(m, r_sim, df_sim):\n",
    "    cf = 0.5*r_sim.diff()\n",
    "    cf.index = df_sim.index\n",
    "    pv = (cf.mask(cf<0,0)*df_sim).loc[:m].sum().mean()\n",
    "    return pv"
   ]
  },
  {
   "cell_type": "code",
   "execution_count": 75,
   "metadata": {},
   "outputs": [
    {
     "data": {
      "text/plain": [
       "0.034378812589172275"
      ]
     },
     "execution_count": 75,
     "metadata": {},
     "output_type": "execute_result"
    }
   ],
   "source": [
    "calc_reset_cap(5, r_sim, df_sim)"
   ]
  },
  {
   "cell_type": "code",
   "execution_count": 76,
   "metadata": {},
   "outputs": [],
   "source": [
    "m = 5\n",
    "cms_sim = pd.DataFrame({\n",
    "    t: 2*(df_sim.loc[t,:]-df_sim.loc[t+m,:])/df_sim[(t+0.5):(t+m)].sum()\n",
    "    for t in np.arange(0.5, 5+0.5, 0.5)}).T"
   ]
  },
  {
   "cell_type": "code",
   "execution_count": 77,
   "metadata": {},
   "outputs": [
    {
     "data": {
      "text/html": [
       "<div>\n",
       "<style scoped>\n",
       "    .dataframe tbody tr th:only-of-type {\n",
       "        vertical-align: middle;\n",
       "    }\n",
       "\n",
       "    .dataframe tbody tr th {\n",
       "        vertical-align: top;\n",
       "    }\n",
       "\n",
       "    .dataframe thead th {\n",
       "        text-align: right;\n",
       "    }\n",
       "</style>\n",
       "<table border=\"1\" class=\"dataframe\">\n",
       "  <thead>\n",
       "    <tr style=\"text-align: right;\">\n",
       "      <th></th>\n",
       "      <th>0</th>\n",
       "      <th>1</th>\n",
       "      <th>2</th>\n",
       "      <th>3</th>\n",
       "      <th>4</th>\n",
       "    </tr>\n",
       "  </thead>\n",
       "  <tbody>\n",
       "    <tr>\n",
       "      <th>0.5</th>\n",
       "      <td>0.038733</td>\n",
       "      <td>0.058599</td>\n",
       "      <td>0.084097</td>\n",
       "      <td>0.069605</td>\n",
       "      <td>0.077559</td>\n",
       "    </tr>\n",
       "    <tr>\n",
       "      <th>1.0</th>\n",
       "      <td>0.041587</td>\n",
       "      <td>0.053870</td>\n",
       "      <td>0.084890</td>\n",
       "      <td>0.075490</td>\n",
       "      <td>0.077625</td>\n",
       "    </tr>\n",
       "    <tr>\n",
       "      <th>1.5</th>\n",
       "      <td>0.043233</td>\n",
       "      <td>0.057802</td>\n",
       "      <td>0.090110</td>\n",
       "      <td>0.067892</td>\n",
       "      <td>0.078745</td>\n",
       "    </tr>\n",
       "    <tr>\n",
       "      <th>2.0</th>\n",
       "      <td>0.046732</td>\n",
       "      <td>0.057979</td>\n",
       "      <td>0.093348</td>\n",
       "      <td>0.069558</td>\n",
       "      <td>0.078169</td>\n",
       "    </tr>\n",
       "    <tr>\n",
       "      <th>2.5</th>\n",
       "      <td>0.041305</td>\n",
       "      <td>0.059409</td>\n",
       "      <td>0.097222</td>\n",
       "      <td>0.061923</td>\n",
       "      <td>0.071013</td>\n",
       "    </tr>\n",
       "    <tr>\n",
       "      <th>3.0</th>\n",
       "      <td>0.047221</td>\n",
       "      <td>0.059002</td>\n",
       "      <td>0.100133</td>\n",
       "      <td>0.063023</td>\n",
       "      <td>0.060615</td>\n",
       "    </tr>\n",
       "    <tr>\n",
       "      <th>3.5</th>\n",
       "      <td>0.054896</td>\n",
       "      <td>0.055413</td>\n",
       "      <td>0.094870</td>\n",
       "      <td>0.053373</td>\n",
       "      <td>0.052369</td>\n",
       "    </tr>\n",
       "    <tr>\n",
       "      <th>4.0</th>\n",
       "      <td>0.065821</td>\n",
       "      <td>0.055312</td>\n",
       "      <td>0.085024</td>\n",
       "      <td>0.052297</td>\n",
       "      <td>0.046386</td>\n",
       "    </tr>\n",
       "    <tr>\n",
       "      <th>4.5</th>\n",
       "      <td>0.071520</td>\n",
       "      <td>0.056464</td>\n",
       "      <td>0.079349</td>\n",
       "      <td>0.048212</td>\n",
       "      <td>0.037028</td>\n",
       "    </tr>\n",
       "    <tr>\n",
       "      <th>5.0</th>\n",
       "      <td>0.076780</td>\n",
       "      <td>0.064378</td>\n",
       "      <td>0.071664</td>\n",
       "      <td>0.057736</td>\n",
       "      <td>0.043252</td>\n",
       "    </tr>\n",
       "  </tbody>\n",
       "</table>\n",
       "</div>"
      ],
      "text/plain": [
       "            0         1         2         3         4\n",
       "0.5  0.038733  0.058599  0.084097  0.069605  0.077559\n",
       "1.0  0.041587  0.053870  0.084890  0.075490  0.077625\n",
       "1.5  0.043233  0.057802  0.090110  0.067892  0.078745\n",
       "2.0  0.046732  0.057979  0.093348  0.069558  0.078169\n",
       "2.5  0.041305  0.059409  0.097222  0.061923  0.071013\n",
       "3.0  0.047221  0.059002  0.100133  0.063023  0.060615\n",
       "3.5  0.054896  0.055413  0.094870  0.053373  0.052369\n",
       "4.0  0.065821  0.055312  0.085024  0.052297  0.046386\n",
       "4.5  0.071520  0.056464  0.079349  0.048212  0.037028\n",
       "5.0  0.076780  0.064378  0.071664  0.057736  0.043252"
      ]
     },
     "execution_count": 77,
     "metadata": {},
     "output_type": "execute_result"
    }
   ],
   "source": [
    "cms_sim.loc[:,0:4]"
   ]
  },
  {
   "cell_type": "code",
   "execution_count": 78,
   "metadata": {},
   "outputs": [
    {
     "data": {
      "text/plain": [
       "0.09018871704821833"
      ]
     },
     "execution_count": 78,
     "metadata": {},
     "output_type": "execute_result"
    }
   ],
   "source": [
    "cf_sim = cms_sim-0.05\n",
    "cf_sim = 0.5*cf_sim.mask(cf_sim<0,0)\n",
    "pv = (cf_sim*df_sim[:5]).sum().mean()\n",
    "pv"
   ]
  }
 ],
 "metadata": {
  "kernelspec": {
   "display_name": "Python 3",
   "language": "python",
   "name": "python3"
  },
  "language_info": {
   "codemirror_mode": {
    "name": "ipython",
    "version": 3
   },
   "file_extension": ".py",
   "mimetype": "text/x-python",
   "name": "python",
   "nbconvert_exporter": "python",
   "pygments_lexer": "ipython3",
   "version": "3.11.1"
  },
  "orig_nbformat": 4
 },
 "nbformat": 4,
 "nbformat_minor": 2
}
